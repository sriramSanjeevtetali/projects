{
 "cells": [
  {
   "cell_type": "code",
   "execution_count": 1,
   "id": "cfcea165",
   "metadata": {},
   "outputs": [],
   "source": [
    "import pandas as pd\n",
    "import os\n",
    "import numpy as np\n",
    "\n",
    "import tensorflow as tf\n",
    "from tensorflow.keras.preprocessing.sequence import pad_sequences\n",
    "from tensorflow.keras.layers import Embedding, LSTM, Dense, Bidirectional\n",
    "from tensorflow.keras.preprocessing.text import Tokenizer\n",
    "from tensorflow.keras.models import Sequential\n",
    "from tensorflow.keras.optimizers import Adam"
   ]
  },
  {
   "cell_type": "code",
   "execution_count": 2,
   "id": "a8fc3cbc",
   "metadata": {},
   "outputs": [
    {
     "data": {
      "text/html": [
       "<div>\n",
       "<style scoped>\n",
       "    .dataframe tbody tr th:only-of-type {\n",
       "        vertical-align: middle;\n",
       "    }\n",
       "\n",
       "    .dataframe tbody tr th {\n",
       "        vertical-align: top;\n",
       "    }\n",
       "\n",
       "    .dataframe thead th {\n",
       "        text-align: right;\n",
       "    }\n",
       "</style>\n",
       "<table border=\"1\" class=\"dataframe\">\n",
       "  <thead>\n",
       "    <tr style=\"text-align: right;\">\n",
       "      <th></th>\n",
       "      <th>id</th>\n",
       "      <th>url</th>\n",
       "      <th>title</th>\n",
       "      <th>subtitle</th>\n",
       "      <th>image</th>\n",
       "      <th>claps</th>\n",
       "      <th>responses</th>\n",
       "      <th>reading_time</th>\n",
       "      <th>publication</th>\n",
       "      <th>date</th>\n",
       "    </tr>\n",
       "  </thead>\n",
       "  <tbody>\n",
       "    <tr>\n",
       "      <th>0</th>\n",
       "      <td>1</td>\n",
       "      <td>https://towardsdatascience.com/a-beginners-gui...</td>\n",
       "      <td>A Beginner’s Guide to Word Embedding with Gens...</td>\n",
       "      <td>NaN</td>\n",
       "      <td>1.png</td>\n",
       "      <td>850</td>\n",
       "      <td>8</td>\n",
       "      <td>8</td>\n",
       "      <td>Towards Data Science</td>\n",
       "      <td>2019-05-30</td>\n",
       "    </tr>\n",
       "    <tr>\n",
       "      <th>1</th>\n",
       "      <td>2</td>\n",
       "      <td>https://towardsdatascience.com/hands-on-graph-...</td>\n",
       "      <td>Hands-on Graph Neural Networks with PyTorch &amp; ...</td>\n",
       "      <td>NaN</td>\n",
       "      <td>2.png</td>\n",
       "      <td>1100</td>\n",
       "      <td>11</td>\n",
       "      <td>9</td>\n",
       "      <td>Towards Data Science</td>\n",
       "      <td>2019-05-30</td>\n",
       "    </tr>\n",
       "    <tr>\n",
       "      <th>2</th>\n",
       "      <td>3</td>\n",
       "      <td>https://towardsdatascience.com/how-to-use-ggpl...</td>\n",
       "      <td>How to Use ggplot2 in Python</td>\n",
       "      <td>A Grammar of Graphics for Python</td>\n",
       "      <td>3.png</td>\n",
       "      <td>767</td>\n",
       "      <td>1</td>\n",
       "      <td>5</td>\n",
       "      <td>Towards Data Science</td>\n",
       "      <td>2019-05-30</td>\n",
       "    </tr>\n",
       "    <tr>\n",
       "      <th>3</th>\n",
       "      <td>4</td>\n",
       "      <td>https://towardsdatascience.com/databricks-how-...</td>\n",
       "      <td>Databricks: How to Save Files in CSV on Your L...</td>\n",
       "      <td>When I work on Python projects dealing…</td>\n",
       "      <td>4.jpeg</td>\n",
       "      <td>354</td>\n",
       "      <td>0</td>\n",
       "      <td>4</td>\n",
       "      <td>Towards Data Science</td>\n",
       "      <td>2019-05-30</td>\n",
       "    </tr>\n",
       "    <tr>\n",
       "      <th>4</th>\n",
       "      <td>5</td>\n",
       "      <td>https://towardsdatascience.com/a-step-by-step-...</td>\n",
       "      <td>A Step-by-Step Implementation of Gradient Desc...</td>\n",
       "      <td>One example of building neural…</td>\n",
       "      <td>5.jpeg</td>\n",
       "      <td>211</td>\n",
       "      <td>3</td>\n",
       "      <td>4</td>\n",
       "      <td>Towards Data Science</td>\n",
       "      <td>2019-05-30</td>\n",
       "    </tr>\n",
       "  </tbody>\n",
       "</table>\n",
       "</div>"
      ],
      "text/plain": [
       "   id                                                url  \\\n",
       "0   1  https://towardsdatascience.com/a-beginners-gui...   \n",
       "1   2  https://towardsdatascience.com/hands-on-graph-...   \n",
       "2   3  https://towardsdatascience.com/how-to-use-ggpl...   \n",
       "3   4  https://towardsdatascience.com/databricks-how-...   \n",
       "4   5  https://towardsdatascience.com/a-step-by-step-...   \n",
       "\n",
       "                                               title  \\\n",
       "0  A Beginner’s Guide to Word Embedding with Gens...   \n",
       "1  Hands-on Graph Neural Networks with PyTorch & ...   \n",
       "2                       How to Use ggplot2 in Python   \n",
       "3  Databricks: How to Save Files in CSV on Your L...   \n",
       "4  A Step-by-Step Implementation of Gradient Desc...   \n",
       "\n",
       "                                  subtitle   image  claps responses  \\\n",
       "0                                      NaN   1.png    850         8   \n",
       "1                                      NaN   2.png   1100        11   \n",
       "2         A Grammar of Graphics for Python   3.png    767         1   \n",
       "3  When I work on Python projects dealing…  4.jpeg    354         0   \n",
       "4          One example of building neural…  5.jpeg    211         3   \n",
       "\n",
       "   reading_time           publication        date  \n",
       "0             8  Towards Data Science  2019-05-30  \n",
       "1             9  Towards Data Science  2019-05-30  \n",
       "2             5  Towards Data Science  2019-05-30  \n",
       "3             4  Towards Data Science  2019-05-30  \n",
       "4             4  Towards Data Science  2019-05-30  "
      ]
     },
     "execution_count": 2,
     "metadata": {},
     "output_type": "execute_result"
    }
   ],
   "source": [
    "medium_data = pd.read_csv('D:/3rd year 2nd sem/Term Paper/medium_data.csv')\n",
    "medium_data.head()"
   ]
  },
  {
   "cell_type": "code",
   "execution_count": 3,
   "id": "20693904",
   "metadata": {},
   "outputs": [
    {
     "name": "stdout",
     "output_type": "stream",
     "text": [
      "Number of records:  6508\n",
      "Number of fields:  10\n"
     ]
    }
   ],
   "source": [
    "print(\"Number of records: \", medium_data.shape[0])\n",
    "print(\"Number of fields: \", medium_data.shape[1])"
   ]
  },
  {
   "cell_type": "code",
   "execution_count": 4,
   "id": "157dbedb",
   "metadata": {},
   "outputs": [
    {
     "data": {
      "text/plain": [
       "0       A Beginner’s Guide to Word Embedding with Gens...\n",
       "1       Hands-on Graph Neural Networks with PyTorch & ...\n",
       "2                            How to Use ggplot2 in Python\n",
       "3       Databricks: How to Save Files in CSV on Your L...\n",
       "4       A Step-by-Step Implementation of Gradient Desc...\n",
       "                              ...                        \n",
       "6503    “We” vs “I” — How Should You Talk About Yourse...\n",
       "6504                     How Donald Trump Markets Himself\n",
       "6505        Content and Marketing Beyond Mass Consumption\n",
       "6506    5 Questions All Copywriters Should Ask Clients...\n",
       "6507               How To Write a Good Business Blog Post\n",
       "Name: title, Length: 6508, dtype: object"
      ]
     },
     "execution_count": 4,
     "metadata": {},
     "output_type": "execute_result"
    }
   ],
   "source": [
    "medium_data['title']"
   ]
  },
  {
   "cell_type": "code",
   "execution_count": 5,
   "id": "3f02988d",
   "metadata": {},
   "outputs": [],
   "source": [
    "medium_data['title'] = medium_data['title'].apply(lambda x: x.replace(u'\\xa0',u' '))\n",
    "medium_data['title'] = medium_data['title'].apply(lambda x: x.replace('\\u200a',' '))"
   ]
  },
  {
   "cell_type": "code",
   "execution_count": 6,
   "id": "a8ac5550",
   "metadata": {},
   "outputs": [
    {
     "name": "stdout",
     "output_type": "stream",
     "text": [
      "Total number of words:  8238\n",
      "Word: ID\n",
      "------------\n",
      "<oov>:  1\n",
      "Strong:  4\n",
      "And:  8\n",
      "Consumption:  8237\n"
     ]
    }
   ],
   "source": [
    "tokenizer = Tokenizer(oov_token='<oov>') # For those words which are not found in word_index\n",
    "tokenizer.fit_on_texts(medium_data['title'])\n",
    "total_words = len(tokenizer.word_index) + 1\n",
    "\n",
    "print(\"Total number of words: \", total_words)\n",
    "print(\"Word: ID\")\n",
    "print(\"------------\")\n",
    "print(\"<oov>: \", tokenizer.word_index['<oov>'])\n",
    "print(\"Strong: \", tokenizer.word_index['strong'])\n",
    "print(\"And: \", tokenizer.word_index['and'])\n",
    "print(\"Consumption: \", tokenizer.word_index['consumption'])"
   ]
  },
  {
   "cell_type": "code",
   "execution_count": 7,
   "id": "616637ce",
   "metadata": {},
   "outputs": [
    {
     "name": "stdout",
     "output_type": "stream",
     "text": [
      "Total input sequences:  48461\n"
     ]
    }
   ],
   "source": [
    "input_sequences = []\n",
    "for line in medium_data['title']:\n",
    "    token_list = tokenizer.texts_to_sequences([line])[0]\n",
    "    #print(token_list)\n",
    "    \n",
    "    for i in range(1, len(token_list)):\n",
    "        n_gram_sequence = token_list[:i+1]\n",
    "        input_sequences.append(n_gram_sequence)\n",
    "\n",
    "# print(input_sequences)\n",
    "print(\"Total input sequences: \", len(input_sequences))"
   ]
  },
  {
   "cell_type": "code",
   "execution_count": 8,
   "id": "bfd7158a",
   "metadata": {},
   "outputs": [
    {
     "data": {
      "text/plain": [
       "array([  0,   0,   0,   0,   0,   0,   0,   0,   0,   0,   0,   0,   0,\n",
       "         0,   0,   0,   0,   0,   0,   0,   0,   0,   0,   0,   0,   0,\n",
       "         0,   0,   0,   0,   0,   0,   0,   0,   0,   0,   0,   5, 676,\n",
       "        68])"
      ]
     },
     "execution_count": 8,
     "metadata": {},
     "output_type": "execute_result"
    }
   ],
   "source": [
    "max_sequence_len = max([len(x) for x in input_sequences])\n",
    "input_sequences = np.array(pad_sequences(input_sequences, maxlen=max_sequence_len, padding='pre'))\n",
    "input_sequences[1]"
   ]
  },
  {
   "cell_type": "code",
   "execution_count": 9,
   "id": "86fe0c54",
   "metadata": {},
   "outputs": [],
   "source": [
    "# create features and label\n",
    "xs, labels = input_sequences[:,:-1],input_sequences[:,-1]\n",
    "ys = tf.keras.utils.to_categorical(labels, num_classes=total_words)"
   ]
  },
  {
   "cell_type": "code",
   "execution_count": 10,
   "id": "f5d5a1b7",
   "metadata": {},
   "outputs": [
    {
     "name": "stdout",
     "output_type": "stream",
     "text": [
      "[   0    0    0    0    0    0    0    0    0    0    0    0    0    0\n",
      "    0    0    0    0    0    0    0    0    0    0    0    0    0    0\n",
      "    0    0    0    0    0    5  676   68    2  452 1518]\n",
      "14\n",
      "1.0\n"
     ]
    }
   ],
   "source": [
    "print(xs[5])\n",
    "print(labels[5])\n",
    "print(ys[5][14])"
   ]
  },
  {
   "cell_type": "code",
   "execution_count": 11,
   "id": "0e38a262",
   "metadata": {},
   "outputs": [
    {
     "name": "stderr",
     "output_type": "stream",
     "text": [
      "C:\\Users\\ADMIN\\anaconda3\\lib\\site-packages\\keras\\optimizer_v2\\adam.py:105: UserWarning: The `lr` argument is deprecated, use `learning_rate` instead.\n",
      "  super(Adam, self).__init__(name, **kwargs)\n"
     ]
    },
    {
     "name": "stdout",
     "output_type": "stream",
     "text": [
      "Epoch 1/50\n",
      "1515/1515 [==============================] - 109s 66ms/step - loss: 6.7604 - accuracy: 0.1284\n",
      "Epoch 2/50\n",
      "1515/1515 [==============================] - 98s 65ms/step - loss: 5.8070 - accuracy: 0.1758\n",
      "Epoch 3/50\n",
      "1515/1515 [==============================] - 97s 64ms/step - loss: 4.9328 - accuracy: 0.2086\n",
      "Epoch 4/50\n",
      "1515/1515 [==============================] - 102s 67ms/step - loss: 4.1938 - accuracy: 0.2531\n",
      "Epoch 5/50\n",
      "1515/1515 [==============================] - 105s 69ms/step - loss: 3.6266 - accuracy: 0.3045\n",
      "Epoch 6/50\n",
      "1515/1515 [==============================] - 107s 71ms/step - loss: 3.2814 - accuracy: 0.3443\n",
      "Epoch 7/50\n",
      "1515/1515 [==============================] - 105s 69ms/step - loss: 3.0281 - accuracy: 0.3757\n",
      "Epoch 8/50\n",
      "1515/1515 [==============================] - 103s 68ms/step - loss: 2.8411 - accuracy: 0.3984\n",
      "Epoch 9/50\n",
      "1515/1515 [==============================] - 104s 69ms/step - loss: 2.7270 - accuracy: 0.4167\n",
      "Epoch 10/50\n",
      "1515/1515 [==============================] - 104s 69ms/step - loss: 2.6290 - accuracy: 0.4285\n",
      "Epoch 11/50\n",
      "1515/1515 [==============================] - 104s 68ms/step - loss: 2.5536 - accuracy: 0.4420\n",
      "Epoch 12/50\n",
      "1515/1515 [==============================] - 105s 69ms/step - loss: 2.4862 - accuracy: 0.4518\n",
      "Epoch 13/50\n",
      "1515/1515 [==============================] - 101s 67ms/step - loss: 2.4171 - accuracy: 0.4603\n",
      "Epoch 14/50\n",
      "1515/1515 [==============================] - 106s 70ms/step - loss: 2.4294 - accuracy: 0.4602\n",
      "Epoch 15/50\n",
      "1515/1515 [==============================] - 108s 71ms/step - loss: 2.3587 - accuracy: 0.4722\n",
      "Epoch 16/50\n",
      "1515/1515 [==============================] - 106s 70ms/step - loss: 2.3887 - accuracy: 0.4709\n",
      "Epoch 17/50\n",
      "1515/1515 [==============================] - 102s 67ms/step - loss: 2.3774 - accuracy: 0.4733\n",
      "Epoch 18/50\n",
      "1515/1515 [==============================] - 103s 68ms/step - loss: 2.2993 - accuracy: 0.4826\n",
      "Epoch 19/50\n",
      "1515/1515 [==============================] - 102s 67ms/step - loss: 2.2650 - accuracy: 0.4892\n",
      "Epoch 20/50\n",
      "1515/1515 [==============================] - 105s 70ms/step - loss: 2.2486 - accuracy: 0.4927\n",
      "Epoch 21/50\n",
      "1515/1515 [==============================] - 101s 67ms/step - loss: 2.2385 - accuracy: 0.4972\n",
      "Epoch 22/50\n",
      "1515/1515 [==============================] - 106s 70ms/step - loss: 2.2696 - accuracy: 0.4925\n",
      "Epoch 23/50\n",
      "1515/1515 [==============================] - 107s 71ms/step - loss: 2.2396 - accuracy: 0.4956\n",
      "Epoch 24/50\n",
      "1515/1515 [==============================] - 105s 69ms/step - loss: 2.1658 - accuracy: 0.5075\n",
      "Epoch 25/50\n",
      "1515/1515 [==============================] - 103s 68ms/step - loss: 2.1860 - accuracy: 0.5034\n",
      "Epoch 26/50\n",
      "1515/1515 [==============================] - 106s 70ms/step - loss: 2.2049 - accuracy: 0.5012\n",
      "Epoch 27/50\n",
      "1515/1515 [==============================] - 104s 68ms/step - loss: 2.1906 - accuracy: 0.5047\n",
      "Epoch 28/50\n",
      "1515/1515 [==============================] - 105s 69ms/step - loss: 2.1791 - accuracy: 0.5082\n",
      "Epoch 29/50\n",
      "1515/1515 [==============================] - 105s 69ms/step - loss: 2.2133 - accuracy: 0.5031\n",
      "Epoch 30/50\n",
      "1515/1515 [==============================] - 108s 71ms/step - loss: 2.1849 - accuracy: 0.5061\n",
      "Epoch 31/50\n",
      "1515/1515 [==============================] - 113s 74ms/step - loss: 2.1914 - accuracy: 0.5092\n",
      "Epoch 32/50\n",
      "1515/1515 [==============================] - 112s 74ms/step - loss: 2.1587 - accuracy: 0.5143\n",
      "Epoch 33/50\n",
      "1515/1515 [==============================] - 100s 66ms/step - loss: 2.1214 - accuracy: 0.5181\n",
      "Epoch 34/50\n",
      "1515/1515 [==============================] - 62s 41ms/step - loss: 2.1916 - accuracy: 0.5122\n",
      "Epoch 35/50\n",
      "1515/1515 [==============================] - 61s 40ms/step - loss: 2.2172 - accuracy: 0.5061\n",
      "Epoch 36/50\n",
      "1515/1515 [==============================] - 61s 40ms/step - loss: 2.1502 - accuracy: 0.5161\n",
      "Epoch 37/50\n",
      "1515/1515 [==============================] - 67s 44ms/step - loss: 2.1270 - accuracy: 0.5223\n",
      "Epoch 38/50\n",
      "1515/1515 [==============================] - 63s 42ms/step - loss: 2.1219 - accuracy: 0.5200\n",
      "Epoch 39/50\n",
      "1515/1515 [==============================] - 65s 43ms/step - loss: 2.1277 - accuracy: 0.5235\n",
      "Epoch 40/50\n",
      "1515/1515 [==============================] - 66s 43ms/step - loss: 2.1129 - accuracy: 0.5249\n",
      "Epoch 41/50\n",
      "1515/1515 [==============================] - 64s 42ms/step - loss: 2.1743 - accuracy: 0.5189\n",
      "Epoch 42/50\n",
      "1515/1515 [==============================] - 63s 42ms/step - loss: 2.1896 - accuracy: 0.5153\n",
      "Epoch 43/50\n",
      "1515/1515 [==============================] - 63s 41ms/step - loss: 2.1219 - accuracy: 0.5243\n",
      "Epoch 44/50\n",
      "1515/1515 [==============================] - 62s 41ms/step - loss: 2.1307 - accuracy: 0.5249\n",
      "Epoch 45/50\n",
      "1515/1515 [==============================] - 62s 41ms/step - loss: 2.1301 - accuracy: 0.5237\n",
      "Epoch 46/50\n",
      "1515/1515 [==============================] - 63s 41ms/step - loss: 2.1199 - accuracy: 0.5280\n",
      "Epoch 47/50\n",
      "1515/1515 [==============================] - 63s 42ms/step - loss: 2.1141 - accuracy: 0.5279\n",
      "Epoch 48/50\n",
      "1515/1515 [==============================] - 64s 42ms/step - loss: 2.1295 - accuracy: 0.5259\n",
      "Epoch 49/50\n",
      "1515/1515 [==============================] - 64s 42ms/step - loss: 2.0890 - accuracy: 0.5321\n",
      "Epoch 50/50\n",
      "1515/1515 [==============================] - 64s 42ms/step - loss: 2.0299 - accuracy: 0.5416\n",
      "<keras.engine.sequential.Sequential object at 0x0000024B395BB610>\n"
     ]
    }
   ],
   "source": [
    "model = Sequential()\n",
    "model.add(Embedding(total_words, 100, input_length=max_sequence_len-1))\n",
    "model.add(Bidirectional(LSTM(150)))\n",
    "model.add(Dense(total_words, activation='softmax'))\n",
    "adam = Adam(lr=0.01)\n",
    "model.compile(loss='categorical_crossentropy', optimizer=adam, metrics=['accuracy'])\n",
    "history = model.fit(xs, ys, epochs=50, verbose=1)\n",
    "#print model.summary()\n",
    "#model.save()\n",
    "print(model)"
   ]
  },
  {
   "cell_type": "code",
   "execution_count": 12,
   "id": "981c0c19",
   "metadata": {},
   "outputs": [],
   "source": [
    "import matplotlib.pyplot as plt\n",
    "\n",
    "def plot_graphs(history, string):\n",
    "    plt.plot(history.history[string])\n",
    "    plt.xlabel(\"Epochs\")\n",
    "    plt.ylabel(string)\n",
    "    plt.show()"
   ]
  },
  {
   "cell_type": "code",
   "execution_count": 13,
   "id": "d1a9c800",
   "metadata": {},
   "outputs": [
    {
     "data": {
      "image/png": "[encoded data removed]",
      "text/plain": [
       "<Figure size 432x288 with 1 Axes>"
      ]
     },
     "metadata": {
      "needs_background": "light"
     },
     "output_type": "display_data"
    }
   ],
   "source": [
    "plot_graphs(history, 'accuracy')"
   ]
  },
  {
   "cell_type": "code",
   "execution_count": 14,
   "id": "a6fdccad",
   "metadata": {},
   "outputs": [
    {
     "data": {
      "image/png": "[encoded data removed]",
      "text/plain": [
       "<Figure size 432x288 with 1 Axes>"
      ]
     },
     "metadata": {
      "needs_background": "light"
     },
     "output_type": "display_data"
    }
   ],
   "source": [
    "plot_graphs(history, 'loss')"
   ]
  },
  {
   "cell_type": "code",
   "execution_count": 18,
   "id": "28c7a685",
   "metadata": {},
   "outputs": [
    {
     "name": "stdout",
     "output_type": "stream",
     "text": [
      "plz enter a sentence : I WANT\n",
      "I WANT to be\n"
     ]
    }
   ],
   "source": [
    "seed_text = input('plz enter a sentence : ')\n",
    "next_words = 2\n",
    "  \n",
    "for _ in range(next_words):\n",
    "    token_list = tokenizer.texts_to_sequences([seed_text])[0]\n",
    "    token_list = pad_sequences([token_list], maxlen=max_sequence_len-1, padding='pre')\n",
    "    #predicted = model.predict_classes(token_list, verbose=0)\n",
    "    predict_x=model.predict(token_list)\n",
    "    classes_x=np.argmax(predict_x,axis=1)\n",
    "    output_word = \"\"\n",
    "    for word, index in tokenizer.word_index.items():\n",
    "#         print(index,predicted)\n",
    "        if index == classes_x:\n",
    "            output_word = word\n",
    "            break\n",
    "    seed_text += \" \" + output_word\n",
    "print(seed_text)"
   ]
  },
  {
   "cell_type": "code",
   "execution_count": null,
   "id": "75f36bf0",
   "metadata": {},
   "outputs": [],
   "source": []
  }
 ],
 "metadata": {
  "kernelspec": {
   "display_name": "Python 3",
   "language": "python",
   "name": "python3"
  },
  "language_info": {
   "codemirror_mode": {
    "name": "ipython",
    "version": 3
   },
   "file_extension": ".py",
   "mimetype": "text/x-python",
   "name": "python",
   "nbconvert_exporter": "python",
   "pygments_lexer": "ipython3",
   "version": "3.8.8"
  }
 },
 "nbformat": 4,
 "nbformat_minor": 5
}
